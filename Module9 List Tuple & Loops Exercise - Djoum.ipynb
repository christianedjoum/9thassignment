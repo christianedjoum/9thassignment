{
 "cells": [
  {
   "cell_type": "markdown",
   "metadata": {},
   "source": [
    "### Exercise 1\n",
    "Ask a user for 5 names and place each one in to a list called <i>names</i>. Then, print <i>names</i>."
   ]
  },
  {
   "cell_type": "code",
   "execution_count": 2,
   "metadata": {},
   "outputs": [
    {
     "name": "stdout",
     "output_type": "stream",
     "text": [
      "give me a name: bill\n",
      "give me a name: bob\n",
      "give me a name: john\n",
      "give me a name: tim\n",
      "give me a name: josh\n",
      "['bill', 'bob', 'john', 'tim', 'josh']\n"
     ]
    }
   ],
   "source": [
    "names = []\n",
    "name1 = input('give me a name: ')\n",
    "names.append(name1)\n",
    "name2 = input('give me a name: ')\n",
    "names.append(name2)\n",
    "name3 = input('give me a name: ')\n",
    "names.append(name3)\n",
    "name4 = input('give me a name: ')\n",
    "names.append(name4)\n",
    "name5 = input('give me a name: ')\n",
    "names.append(name5)\n",
    "print(names)"
   ]
  },
  {
   "cell_type": "markdown",
   "metadata": {},
   "source": [
    "### Exercise 2\n",
    "Print out a randomly selected name in the names list from exercise 1."
   ]
  },
  {
   "cell_type": "code",
   "execution_count": 20,
   "metadata": {},
   "outputs": [
    {
     "name": "stdout",
     "output_type": "stream",
     "text": [
      "tim\n"
     ]
    }
   ],
   "source": [
    "import random as ran\n",
    "i = ran.randint(1,6)\n",
    "print(names[i])"
   ]
  },
  {
   "cell_type": "markdown",
   "metadata": {},
   "source": [
    "### Exercise 3: \n",
    "Fix bugs in the next cell.  It is trying to create a list for even numbers between two numbers provided by a user.\n"
   ]
  },
  {
   "cell_type": "code",
   "execution_count": 10,
   "metadata": {},
   "outputs": [
    {
     "name": "stdout",
     "output_type": "stream",
     "text": [
      "Enter a starting number: 10\n",
      "Enter an ending number: 20\n",
      "[10, 11, 12, 13, 14, 15, 16, 17, 18, 19]\n",
      "[10, 12, 14, 16, 18]\n"
     ]
    }
   ],
   "source": [
    "no1 = int(input(\"Enter a starting number: \"))\n",
    "no2 = int(input(\"Enter an ending number: \"))\n",
    "\n",
    "numbers = []\n",
    "evens = []\n",
    "\n",
    "for i in range(no1, no2) :\n",
    "    numbers.append(i) \n",
    "    if (i%2 == 0):    # even number\n",
    "        evens.append(i)\n",
    "    \n",
    "print(numbers)    \n",
    "print(evens)"
   ]
  },
  {
   "cell_type": "markdown",
   "metadata": {},
   "source": [
    "### Exercise 4\n",
    "Finish writing a program to generate 10 random numbers between 1 and 100 and save it to a list.\n",
    "Finally, print out the original numbers followed by the smallest, largest, and average number."
   ]
  },
  {
   "cell_type": "code",
   "execution_count": 31,
   "metadata": {},
   "outputs": [
    {
     "name": "stdout",
     "output_type": "stream",
     "text": [
      "[16, 39, 40, 73, 35, 49, 12, 87, 93, 88]\n",
      "16\n",
      "39\n",
      "40\n",
      "73\n",
      "35\n",
      "35 is smaller than 73\n",
      "49\n",
      "49 is smaller than 73\n",
      "12\n",
      "12 is smaller than 73\n",
      "87\n",
      "93\n",
      "88\n",
      "88 is smaller than 93\n",
      "93\n",
      "16\n",
      "16 is greater than 16\n",
      "39\n",
      "39 is greater than 39\n",
      "40\n",
      "40 is greater than 40\n",
      "73\n",
      "73 is greater than 73\n",
      "35\n",
      "35 is greater than 35\n",
      "49\n",
      "49 is greater than 49\n",
      "12\n",
      "12 is greater than 12\n",
      "87\n",
      "87 is greater than 87\n",
      "93\n",
      "93 is greater than 93\n",
      "88\n",
      "88 is greater than 88\n",
      "88\n",
      "Average is 53.2\n"
     ]
    }
   ],
   "source": [
    "import random as rand\n",
    "\n",
    "numbers = []\n",
    "total = 0\n",
    "\n",
    "for i in range(1, 11) :\n",
    "    numb = rand.randint(1, 100)\n",
    "    total += numb\n",
    "    numbers.append(numb)\n",
    "\n",
    "    \n",
    "# some code needed here to find the smallest, largest, and average number\n",
    "print(numbers)\n",
    "avg = total/10\n",
    "greatest = 0\n",
    "for i in numbers:\n",
    "    print(i)\n",
    "    if i > greatest:\n",
    "        greatest = i\n",
    "    else:\n",
    "        print(f\"{i} is smaller than {greatest}\")\n",
    "print(greatest)\n",
    "\n",
    "\n",
    "for i in numbers:\n",
    "    print(i)\n",
    "    least = i\n",
    "    if i < least:\n",
    "        least = i\n",
    "    else:\n",
    "        print(f\"{i} is greater than {least}\")\n",
    "print(least) \n",
    "\n",
    "#print(f\"Org Numbers are {org_numbs}\")\n",
    "#print(f\"Sorted numbers are {numbers}\")\n",
    "#print(f\"Largest number is {largest}\")\n",
    "#print(f\"Smallest number is {smallest}\")\n",
    "#print(f\"Average is {avg}\")"
   ]
  },
  {
   "cell_type": "markdown",
   "metadata": {},
   "source": [
    "### Exercise 5\n",
    "\n",
    "Write a function called <b>draw_triangle()</b> to draw a right triangle where the base of the triangle is the number passed in as an arguement. Call <b>draw_triangle()</b> to show it works.\n",
    "\n",
    "e.g. <b>draw_triangle(7)</b> draws as below:\n",
    "\n",
    "    *\n",
    "    **\n",
    "    ***\n",
    "    ****\n",
    "    *****\n",
    "    ******\n",
    "    *******\n"
   ]
  },
  {
   "cell_type": "code",
   "execution_count": null,
   "metadata": {},
   "outputs": [],
   "source": [
    "# write code for draw_triangle() function\n",
    "\n",
    "\n",
    "\n",
    "\n",
    "\n"
   ]
  },
  {
   "cell_type": "code",
   "execution_count": null,
   "metadata": {},
   "outputs": [],
   "source": [
    "base = int(input(\"Enter a number: \"))\n",
    "\n",
    "draw_triangle(base)"
   ]
  }
 ],
 "metadata": {
  "kernelspec": {
   "display_name": "Python 3 (ipykernel)",
   "language": "python",
   "name": "python3"
  },
  "language_info": {
   "codemirror_mode": {
    "name": "ipython",
    "version": 3
   },
   "file_extension": ".py",
   "mimetype": "text/x-python",
   "name": "python",
   "nbconvert_exporter": "python",
   "pygments_lexer": "ipython3",
   "version": "3.9.7"
  }
 },
 "nbformat": 4,
 "nbformat_minor": 4
}
